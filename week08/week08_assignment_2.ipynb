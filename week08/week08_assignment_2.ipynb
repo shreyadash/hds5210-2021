{
 "cells": [
  {
   "cell_type": "markdown",
   "metadata": {},
   "source": [
    "# Week 8 Assignment\n",
    "\n",
    "_MkKinney 6.1_\n",
    "\n",
    "This week has been all about getting information off the internet both in structured data formats (CSV, JSON, etc) as well as HTML.  For these exercises, we're going to use two practical examples of fetching data from web pages to show how to use Pandas and BeautifulSoup to extract structured information from the web.\n",
    "\n",
    "---\n",
    "---"
   ]
  },
  {
   "cell_type": "markdown",
   "metadata": {},
   "source": [
    "### 33.1 Parsing a list in HTML\n",
    "\n",
    "Go to the Banner Health Price Transparency Page: https://www.bannerhealth.com/patients/billing/pricing-resources/hospital-price-transparency\n",
    "\n",
    "Notice that there is a list of hospitals and the city they are in.  We want to parse the underlying HTML to create a list of all the hospitals along with which city they're in.\n",
    "\n",
    "```json\n",
    "[\n",
    "    [\"Banner - University Medical Center Phoenix\", \"Arizona\"],\n",
    "    [\"Banner - University Medical Center South \", \"Arizona\"],\n",
    "    ...\n",
    "]\n",
    "```\n",
    "\n",
    "To examine the underlying HTML code, you can use Chrome, right-click, and choose **Inspect**.\n",
    "\n",
    "For reference, the documentation for BeautifulSoup is here: https://www.crummy.com/software/BeautifulSoup/bs4/doc/\n"
   ]
  },
  {
   "cell_type": "code",
   "execution_count": 1,
   "metadata": {},
   "outputs": [],
   "source": [
    "from bs4 import BeautifulSoup\n",
    "import requests\n",
    "headers = { \"User-Agent\": \"Mozilla/5.0 (Macintosh; Intel Mac OS X 11_2_3) AppleWebKit/537.36 (KHTML, like Gecko) Chrome/89.0.4389.90 Safari/537.36\" }\n",
    "\n",
    "response = requests.get('https://www.bannerhealth.com/patients/billing/pricing-resources/hospital-price-transparency', headers=headers)\n",
    "soup = BeautifulSoup(response.text, 'html.parser')"
   ]
  },
  {
   "cell_type": "code",
   "execution_count": 2,
   "metadata": {},
   "outputs": [
    {
     "name": "stdout",
     "output_type": "stream",
     "text": [
      "Arizona Banner - University Medical Center Phoenix\n",
      "Arizona Banner - University Medical Center South \n",
      "Arizona Banner - University Medical Center Tucson\n",
      "Arizona Banner Baywood Medical Center \n",
      "Arizona Banner Behavioral Health Hospital\n",
      "Arizona Banner Boswell Medical Center\n",
      "Arizona Banner Casa Grande Medical Center\n",
      "Arizona Banner Del E. Webb Medical Center\n",
      "Arizona Banner Desert Medical Center/Cardon Children's Medical Center  \n",
      "Arizona Banner Estrella Medical Center\n",
      "Arizona Banner Gateway Medical Center/Banner MD Anderson Cancer Center\n",
      "Arizona Banner Goldfield Medical Center  \n",
      "Arizona Banner Heart Hospital\n",
      "Arizona Banner Ironwood Medical Center\n",
      "Arizona Banner Ocotillo Medical Center\n",
      "Arizona Banner Payson Medical Center\n",
      "Arizona Banner Thunderbird Medical Center\n",
      "Arizona Page Hospital\n",
      "California Banner Lassen Medical Center\n",
      "Colorado Banner Fort Collins Medical Center\n",
      "Colorado McKee Medical Center\n",
      "Colorado North Colorado Medical Center\n",
      "Colorado Sterling Regional Medical Center\n",
      "Colorado East Morgan County Hospital\n",
      "Nebraska Ogallala Community Hospital\n",
      "Nevada Banner Churchill Community Hospital\n",
      "Wyoming Banner Wyoming Medical Center\n",
      "Wyoming Community Hospital\n",
      "Wyoming Washakie Medical Center\n",
      "Wyoming Platte County Memorial Hospital\n",
      "State-Specific Regulations Arizona\n",
      "State-Specific Regulations California\n",
      "State-Specific Regulations Colorado\n",
      "State-Specific Regulations Nebraska\n",
      "State-Specific Regulations Nevada\n",
      "State-Specific Regulations Wyoming\n"
     ]
    }
   ],
   "source": [
    "div = soup.find_all('div', {\"class\":\"col-md-8\"})[0]\n",
    "for hospital_list in div.find_all('ul'):\n",
    "    state = hospital_list.previous_sibling.previous_sibling.string\n",
    "    for hospital in hospital_list.find_all('li'):\n",
    "        print(state, hospital.text)"
   ]
  },
  {
   "cell_type": "markdown",
   "metadata": {},
   "source": [
    "---\n",
    "\n",
    "### 33.2 Using Pandas to Read Tables\n",
    "\n",
    "\n",
    "Pandas documentation for loading data https://pandas.pydata.org/pandas-docs/version/0.23.4/api.html#input-output\n",
    "\n",
    "Pandas documentation for describing the shape of data https://pandas.pydata.org/pandas-docs/version/0.23.4/generated/pandas.DataFrame.shape.html"
   ]
  },
  {
   "cell_type": "code",
   "execution_count": 3,
   "metadata": {},
   "outputs": [],
   "source": [
    "import pandas as pd"
   ]
  },
  {
   "cell_type": "code",
   "execution_count": 4,
   "metadata": {},
   "outputs": [
    {
     "data": {
      "text/plain": [
       "5"
      ]
     },
     "execution_count": 4,
     "metadata": {},
     "output_type": "execute_result"
    }
   ],
   "source": [
    "tables = pd.read_html('https://en.wikipedia.org/wiki/Diagnosis-related_group')\n",
    "len(tables)"
   ]
  },
  {
   "cell_type": "code",
   "execution_count": 5,
   "metadata": {},
   "outputs": [
    {
     "name": "stdout",
     "output_type": "stream",
     "text": [
      "**************TABLE 0\n",
      "    0                                                  1\n",
      "0 NaN  This article has multiple issues. Please help ...\n",
      "1 NaN  This article needs to be updated. Please updat...\n",
      "2 NaN  This article needs additional citations for ve...\n",
      "**************TABLE 1\n",
      "    0                                                  1\n",
      "0 NaN  This article needs to be updated. Please updat...\n",
      "**************TABLE 2\n",
      "    0                                                  1\n",
      "0 NaN  This article needs additional citations for ve...\n",
      "**************TABLE 3\n",
      "   Hypothetical patient at Generic Hospital in San Francisco, CA, DRG 482, HIP & FEMUR PROCEDURES EXCEPT MAJOR JOINT W/O CC/MCC (2001)[15]:8  \\\n",
      "0                                         Description                                                                                          \n",
      "1                              Average length of stay                                                                                          \n",
      "2                      Large urban labor-related rate                                                                                          \n",
      "3                       Large urban non-labor-related                                                                                          \n",
      "4                                          Wage index                                                                                          \n",
      "5   Standard Federal Rate: labor * wage index + no...                                                                                          \n",
      "6                     DRG relative weight (RW) factor                                                                                          \n",
      "7    Weighted payment: Standard Federal Rate * DRG RW                                                                                          \n",
      "8                Disproportionate Share Payment (DSH)                                                                                          \n",
      "9                    Indirect medical education (IME)                                                                                          \n",
      "10                   Total cost outlier reimbursement                                                                                          \n",
      "11  Total operating payment: Weighted payment * (1...                                                                                          \n",
      "\n",
      "   Hypothetical patient at Generic Hospital in San Francisco, CA, DRG 482, HIP & FEMUR PROCEDURES EXCEPT MAJOR JOINT W/O CC/MCC (2001)[15]:8.1  \n",
      "0                                               Value                                                                                           \n",
      "1                                             3.8[16]                                                                                           \n",
      "2                                           $2,809.18                                                                                           \n",
      "3                                           $1,141.85                                                                                           \n",
      "4                                              1.4193                                                                                           \n",
      "5                                           $5,128.92                                                                                           \n",
      "6                                              1.8128                                                                                           \n",
      "7                                           $9,297.71                                                                                           \n",
      "8                                              0.1413                                                                                           \n",
      "9                                              0.0744                                                                                           \n",
      "10                                                 $0                                                                                           \n",
      "11                                         $11,303.23                                                                                           \n",
      "**************TABLE 4\n",
      "     Name  Version       Start date  \\\n",
      "0  MS-DRG       25  October 1, 2007   \n",
      "1  MS-DRG       26  October 1, 2008   \n",
      "2  MS-DRG       27  October 1, 2009   \n",
      "3  MS-DRG       31  October 1, 2013   \n",
      "4  MS-DRG       32  October 1, 2014   \n",
      "5  MS-DRG       33  October 1, 2015   \n",
      "6  MS-DRG       34  October 1, 2016   \n",
      "7  MS-DRG       35  October 1, 2017   \n",
      "\n",
      "                                               Notes  \n",
      "0  Group numbers resequenced, so that for instanc...  \n",
      "1  One main change: implementation of Hospital Ac...  \n",
      "2  Changes involved are mainly related to Influen...  \n",
      "3                                                NaN  \n",
      "4                                                NaN  \n",
      "5            Convert from ICD-9-CM to ICD-10-CM.[17]  \n",
      "6  Address ICD-10 replication issues introduced i...  \n",
      "7  MS-DRGs 984 through 986 deleted and reassigned...  \n"
     ]
    }
   ],
   "source": [
    "for index,table in enumerate(tables):\n",
    "    print(\"**************TABLE {}\".format(index))\n",
    "    print(table)"
   ]
  },
  {
   "cell_type": "code",
   "execution_count": 6,
   "metadata": {},
   "outputs": [
    {
     "data": {
      "text/html": [
       "<div>\n",
       "<style scoped>\n",
       "    .dataframe tbody tr th:only-of-type {\n",
       "        vertical-align: middle;\n",
       "    }\n",
       "\n",
       "    .dataframe tbody tr th {\n",
       "        vertical-align: top;\n",
       "    }\n",
       "\n",
       "    .dataframe thead th {\n",
       "        text-align: right;\n",
       "    }\n",
       "</style>\n",
       "<table border=\"1\" class=\"dataframe\">\n",
       "  <thead>\n",
       "    <tr style=\"text-align: right;\">\n",
       "      <th></th>\n",
       "      <th>Name</th>\n",
       "      <th>Version</th>\n",
       "      <th>Start date</th>\n",
       "      <th>Notes</th>\n",
       "    </tr>\n",
       "  </thead>\n",
       "  <tbody>\n",
       "    <tr>\n",
       "      <th>0</th>\n",
       "      <td>MS-DRG</td>\n",
       "      <td>25</td>\n",
       "      <td>October 1, 2007</td>\n",
       "      <td>Group numbers resequenced, so that for instanc...</td>\n",
       "    </tr>\n",
       "    <tr>\n",
       "      <th>1</th>\n",
       "      <td>MS-DRG</td>\n",
       "      <td>26</td>\n",
       "      <td>October 1, 2008</td>\n",
       "      <td>One main change: implementation of Hospital Ac...</td>\n",
       "    </tr>\n",
       "    <tr>\n",
       "      <th>2</th>\n",
       "      <td>MS-DRG</td>\n",
       "      <td>27</td>\n",
       "      <td>October 1, 2009</td>\n",
       "      <td>Changes involved are mainly related to Influen...</td>\n",
       "    </tr>\n",
       "    <tr>\n",
       "      <th>3</th>\n",
       "      <td>MS-DRG</td>\n",
       "      <td>31</td>\n",
       "      <td>October 1, 2013</td>\n",
       "      <td>NaN</td>\n",
       "    </tr>\n",
       "    <tr>\n",
       "      <th>4</th>\n",
       "      <td>MS-DRG</td>\n",
       "      <td>32</td>\n",
       "      <td>October 1, 2014</td>\n",
       "      <td>NaN</td>\n",
       "    </tr>\n",
       "    <tr>\n",
       "      <th>5</th>\n",
       "      <td>MS-DRG</td>\n",
       "      <td>33</td>\n",
       "      <td>October 1, 2015</td>\n",
       "      <td>Convert from ICD-9-CM to ICD-10-CM.[17]</td>\n",
       "    </tr>\n",
       "    <tr>\n",
       "      <th>6</th>\n",
       "      <td>MS-DRG</td>\n",
       "      <td>34</td>\n",
       "      <td>October 1, 2016</td>\n",
       "      <td>Address ICD-10 replication issues introduced i...</td>\n",
       "    </tr>\n",
       "    <tr>\n",
       "      <th>7</th>\n",
       "      <td>MS-DRG</td>\n",
       "      <td>35</td>\n",
       "      <td>October 1, 2017</td>\n",
       "      <td>MS-DRGs 984 through 986 deleted and reassigned...</td>\n",
       "    </tr>\n",
       "  </tbody>\n",
       "</table>\n",
       "</div>"
      ],
      "text/plain": [
       "     Name  Version       Start date  \\\n",
       "0  MS-DRG       25  October 1, 2007   \n",
       "1  MS-DRG       26  October 1, 2008   \n",
       "2  MS-DRG       27  October 1, 2009   \n",
       "3  MS-DRG       31  October 1, 2013   \n",
       "4  MS-DRG       32  October 1, 2014   \n",
       "5  MS-DRG       33  October 1, 2015   \n",
       "6  MS-DRG       34  October 1, 2016   \n",
       "7  MS-DRG       35  October 1, 2017   \n",
       "\n",
       "                                               Notes  \n",
       "0  Group numbers resequenced, so that for instanc...  \n",
       "1  One main change: implementation of Hospital Ac...  \n",
       "2  Changes involved are mainly related to Influen...  \n",
       "3                                                NaN  \n",
       "4                                                NaN  \n",
       "5            Convert from ICD-9-CM to ICD-10-CM.[17]  \n",
       "6  Address ICD-10 replication issues introduced i...  \n",
       "7  MS-DRGs 984 through 986 deleted and reassigned...  "
      ]
     },
     "execution_count": 6,
     "metadata": {},
     "output_type": "execute_result"
    }
   ],
   "source": [
    "drgs = tables[4]\n",
    "drgs"
   ]
  },
  {
   "cell_type": "markdown",
   "metadata": {},
   "source": [
    "---\n",
    "\n",
    "### 33.3 Find Something of Your Own\n",
    "\n",
    "Do some web searches and find an HTML page with some data that is interesting to something you're studying.  You can extract and parse that information using either BeautifulSoup or Pandas.  If you're using Pandas, then do something interesting to format and structure your data.  If you're using BeautifulSoup, you'll just need to do the work of parsing the data out of HTML -- that's hard enough!\n",
    "\n",
    "You don't need to build this as a function.  Just use notebook cells as I've done above.  You will be graded based on _style_.  Use variable names that make sense for your problem / solution. Cleanup anything you don't need before you submit your work."
   ]
  },
  {
   "cell_type": "code",
   "execution_count": 7,
   "metadata": {},
   "outputs": [],
   "source": [
    "# Your Code Here"
   ]
  },
  {
   "cell_type": "code",
   "execution_count": 8,
   "metadata": {},
   "outputs": [],
   "source": [
    "import pandas as pd"
   ]
  },
  {
   "cell_type": "code",
   "execution_count": 9,
   "metadata": {},
   "outputs": [
    {
     "data": {
      "text/plain": [
       "3"
      ]
     },
     "execution_count": 9,
     "metadata": {},
     "output_type": "execute_result"
    }
   ],
   "source": [
    "dance_tbl = pd.read_html('https://en.wikipedia.org/wiki/Dance')\n",
    "len(dance_tbl)"
   ]
  },
  {
   "cell_type": "code",
   "execution_count": 10,
   "metadata": {},
   "outputs": [
    {
     "name": "stdout",
     "output_type": "stream",
     "text": [
      "**************TABLE 0\n",
      "                                     Performing arts\n",
      "0  Acrobatics Ballet Circus skills Clown Dance Ge...\n",
      "1  .mw-parser-output .navbar{display:inline;font-...\n",
      "**************TABLE 1\n",
      "                    vteDance  \\\n",
      "0              Index Outline   \n",
      "1              Participation   \n",
      "2                     Social   \n",
      "3   Major present-day genres   \n",
      "4                  Technique   \n",
      "5  Regional(National dances)   \n",
      "6                    Related   \n",
      "7             List of dances   \n",
      "\n",
      "                                          vteDance.1  \n",
      "0                                      Index Outline  \n",
      "1  Solo Partner close embrace closed position ope...  \n",
      "2  Ceremonial Competitive Concert Ecstatic Erotic...  \n",
      "3  Acro Ballet Ballroom Waltz Formation Belly Bre...  \n",
      "4  Ballet technique Choreography Connection Dance...  \n",
      "5  Arab Africa Armenia Assyrian Austria Azerbaija...  \n",
      "6  Dance and disability Dance and health Dance co...  \n",
      "7                                     List of dances  \n",
      "**************TABLE 2\n",
      "                   0                                                  1\n",
      "0  Authority control  GND: 4059028-8 LCCN: sh85035659 MA: 2781426810...\n"
     ]
    }
   ],
   "source": [
    "for index,table in enumerate(dance_tbl):\n",
    "    print(\"**************TABLE {}\".format(index))\n",
    "    print(table)"
   ]
  },
  {
   "cell_type": "code",
   "execution_count": 11,
   "metadata": {},
   "outputs": [
    {
     "data": {
      "text/html": [
       "<div>\n",
       "<style scoped>\n",
       "    .dataframe tbody tr th:only-of-type {\n",
       "        vertical-align: middle;\n",
       "    }\n",
       "\n",
       "    .dataframe tbody tr th {\n",
       "        vertical-align: top;\n",
       "    }\n",
       "\n",
       "    .dataframe thead th {\n",
       "        text-align: right;\n",
       "    }\n",
       "</style>\n",
       "<table border=\"1\" class=\"dataframe\">\n",
       "  <thead>\n",
       "    <tr style=\"text-align: right;\">\n",
       "      <th></th>\n",
       "      <th>vteDance</th>\n",
       "      <th>vteDance.1</th>\n",
       "    </tr>\n",
       "  </thead>\n",
       "  <tbody>\n",
       "    <tr>\n",
       "      <th>0</th>\n",
       "      <td>Index Outline</td>\n",
       "      <td>Index Outline</td>\n",
       "    </tr>\n",
       "    <tr>\n",
       "      <th>1</th>\n",
       "      <td>Participation</td>\n",
       "      <td>Solo Partner close embrace closed position ope...</td>\n",
       "    </tr>\n",
       "    <tr>\n",
       "      <th>2</th>\n",
       "      <td>Social</td>\n",
       "      <td>Ceremonial Competitive Concert Ecstatic Erotic...</td>\n",
       "    </tr>\n",
       "    <tr>\n",
       "      <th>3</th>\n",
       "      <td>Major present-day genres</td>\n",
       "      <td>Acro Ballet Ballroom Waltz Formation Belly Bre...</td>\n",
       "    </tr>\n",
       "    <tr>\n",
       "      <th>4</th>\n",
       "      <td>Technique</td>\n",
       "      <td>Ballet technique Choreography Connection Dance...</td>\n",
       "    </tr>\n",
       "    <tr>\n",
       "      <th>5</th>\n",
       "      <td>Regional(National dances)</td>\n",
       "      <td>Arab Africa Armenia Assyrian Austria Azerbaija...</td>\n",
       "    </tr>\n",
       "    <tr>\n",
       "      <th>6</th>\n",
       "      <td>Related</td>\n",
       "      <td>Dance and disability Dance and health Dance co...</td>\n",
       "    </tr>\n",
       "    <tr>\n",
       "      <th>7</th>\n",
       "      <td>List of dances</td>\n",
       "      <td>List of dances</td>\n",
       "    </tr>\n",
       "  </tbody>\n",
       "</table>\n",
       "</div>"
      ],
      "text/plain": [
       "                    vteDance  \\\n",
       "0              Index Outline   \n",
       "1              Participation   \n",
       "2                     Social   \n",
       "3   Major present-day genres   \n",
       "4                  Technique   \n",
       "5  Regional(National dances)   \n",
       "6                    Related   \n",
       "7             List of dances   \n",
       "\n",
       "                                          vteDance.1  \n",
       "0                                      Index Outline  \n",
       "1  Solo Partner close embrace closed position ope...  \n",
       "2  Ceremonial Competitive Concert Ecstatic Erotic...  \n",
       "3  Acro Ballet Ballroom Waltz Formation Belly Bre...  \n",
       "4  Ballet technique Choreography Connection Dance...  \n",
       "5  Arab Africa Armenia Assyrian Austria Azerbaija...  \n",
       "6  Dance and disability Dance and health Dance co...  \n",
       "7                                     List of dances  "
      ]
     },
     "execution_count": 11,
     "metadata": {},
     "output_type": "execute_result"
    }
   ],
   "source": [
    "dance_types = dance_tbl[1]\n",
    "dance_types"
   ]
  },
  {
   "cell_type": "code",
   "execution_count": 12,
   "metadata": {},
   "outputs": [
    {
     "data": {
      "text/html": [
       "<div>\n",
       "<style scoped>\n",
       "    .dataframe tbody tr th:only-of-type {\n",
       "        vertical-align: middle;\n",
       "    }\n",
       "\n",
       "    .dataframe tbody tr th {\n",
       "        vertical-align: top;\n",
       "    }\n",
       "\n",
       "    .dataframe thead th {\n",
       "        text-align: right;\n",
       "    }\n",
       "</style>\n",
       "<table border=\"1\" class=\"dataframe\">\n",
       "  <thead>\n",
       "    <tr style=\"text-align: right;\">\n",
       "      <th></th>\n",
       "      <th>vteDance</th>\n",
       "      <th>vteDance.1</th>\n",
       "    </tr>\n",
       "  </thead>\n",
       "  <tbody>\n",
       "    <tr>\n",
       "      <th>0</th>\n",
       "      <td>Index Outline</td>\n",
       "      <td>Index Outline</td>\n",
       "    </tr>\n",
       "    <tr>\n",
       "      <th>7</th>\n",
       "      <td>List of dances</td>\n",
       "      <td>List of dances</td>\n",
       "    </tr>\n",
       "    <tr>\n",
       "      <th>3</th>\n",
       "      <td>Major present-day genres</td>\n",
       "      <td>Acro Ballet Ballroom Waltz Formation Belly Bre...</td>\n",
       "    </tr>\n",
       "    <tr>\n",
       "      <th>1</th>\n",
       "      <td>Participation</td>\n",
       "      <td>Solo Partner close embrace closed position ope...</td>\n",
       "    </tr>\n",
       "    <tr>\n",
       "      <th>5</th>\n",
       "      <td>Regional(National dances)</td>\n",
       "      <td>Arab Africa Armenia Assyrian Austria Azerbaija...</td>\n",
       "    </tr>\n",
       "    <tr>\n",
       "      <th>6</th>\n",
       "      <td>Related</td>\n",
       "      <td>Dance and disability Dance and health Dance co...</td>\n",
       "    </tr>\n",
       "    <tr>\n",
       "      <th>2</th>\n",
       "      <td>Social</td>\n",
       "      <td>Ceremonial Competitive Concert Ecstatic Erotic...</td>\n",
       "    </tr>\n",
       "    <tr>\n",
       "      <th>4</th>\n",
       "      <td>Technique</td>\n",
       "      <td>Ballet technique Choreography Connection Dance...</td>\n",
       "    </tr>\n",
       "  </tbody>\n",
       "</table>\n",
       "</div>"
      ],
      "text/plain": [
       "                    vteDance  \\\n",
       "0              Index Outline   \n",
       "7             List of dances   \n",
       "3   Major present-day genres   \n",
       "1              Participation   \n",
       "5  Regional(National dances)   \n",
       "6                    Related   \n",
       "2                     Social   \n",
       "4                  Technique   \n",
       "\n",
       "                                          vteDance.1  \n",
       "0                                      Index Outline  \n",
       "7                                     List of dances  \n",
       "3  Acro Ballet Ballroom Waltz Formation Belly Bre...  \n",
       "1  Solo Partner close embrace closed position ope...  \n",
       "5  Arab Africa Armenia Assyrian Austria Azerbaija...  \n",
       "6  Dance and disability Dance and health Dance co...  \n",
       "2  Ceremonial Competitive Concert Ecstatic Erotic...  \n",
       "4  Ballet technique Choreography Connection Dance...  "
      ]
     },
     "execution_count": 12,
     "metadata": {},
     "output_type": "execute_result"
    }
   ],
   "source": [
    "# I will be sorting this table by the \"vteDance\" column in alphabetical order\n",
    "sorted_dance_types = dance_tbl[1].sort_values('vteDance')\n",
    "sorted_dance_types"
   ]
  },
  {
   "cell_type": "markdown",
   "metadata": {},
   "source": [
    "---\n",
    "\n",
    "## Submitting Your Work\n",
    "\n",
    "In order to submit your work, you'll need to use the `git` command line program to **add** your homework file (this file) to your local repository, **commit** your changes to your local repository, and then **push** those changes up to github.com.  From there, I'll be able to **pull** the changes down and do my grading.  I'll provide some feedback, **commit** and **push** my comments back to you.  Next week, I'll show you how to **pull** down my comments.\n",
    "\n",
    "To run through everything one last time and submit your work:\n",
    "1. Use the `Kernel` -> `Restart Kernel and Run All Cells` menu option to run everything from top to bottom and stop here.\n",
    "2. Save this note with Ctrl-S (or Cmd-S)\n",
    "2. Skip down to the last command cell (the one starting with `%%bash`) and run that cell.\n",
    "\n",
    "If anything fails along the way with this submission part of the process, let me know.  I'll help you troubleshoort."
   ]
  },
  {
   "cell_type": "code",
   "execution_count": 13,
   "metadata": {},
   "outputs": [
    {
     "ename": "AssertionError",
     "evalue": "DO NOT REMOVE THIS LINE",
     "output_type": "error",
     "traceback": [
      "\u001b[0;31m---------------------------------------------------------------------------\u001b[0m",
      "\u001b[0;31mAssertionError\u001b[0m                            Traceback (most recent call last)",
      "\u001b[0;32m<ipython-input-13-cef8011cb395>\u001b[0m in \u001b[0;36m<module>\u001b[0;34m\u001b[0m\n\u001b[0;32m----> 1\u001b[0;31m \u001b[0;32massert\u001b[0m \u001b[0;32mFalse\u001b[0m\u001b[0;34m,\u001b[0m \u001b[0;34m\"DO NOT REMOVE THIS LINE\"\u001b[0m\u001b[0;34m\u001b[0m\u001b[0;34m\u001b[0m\u001b[0m\n\u001b[0m",
      "\u001b[0;31mAssertionError\u001b[0m: DO NOT REMOVE THIS LINE"
     ]
    }
   ],
   "source": [
    "assert False, \"DO NOT REMOVE THIS LINE\""
   ]
  },
  {
   "cell_type": "markdown",
   "metadata": {},
   "source": [
    "---"
   ]
  },
  {
   "cell_type": "code",
   "execution_count": 14,
   "metadata": {},
   "outputs": [
    {
     "name": "stdout",
     "output_type": "stream",
     "text": [
      "Already up to date.\n",
      "[main d22af41] Submitting the week 8 programming assignment\n",
      " 2 files changed, 624 insertions(+), 6 deletions(-)\n",
      " create mode 100644 week08/week08_assignment_2.ipynb\n"
     ]
    },
    {
     "name": "stderr",
     "output_type": "stream",
     "text": [
      "To github.com:shreyadash/hds5210-2021.git\n",
      "   1722dd2..d22af41  main -> main\n"
     ]
    }
   ],
   "source": [
    "%%bash\n",
    "git pull\n",
    "git add week08_assignment_2.ipynb\n",
    "git commit -a -m \"Submitting the week 8 programming assignment\"\n",
    "git push"
   ]
  },
  {
   "cell_type": "markdown",
   "metadata": {},
   "source": [
    "\n",
    "---\n",
    "\n",
    "If the message above says something like _Submitting the week 8 programming assignment_ or _Everything is up to date_, then your work was submitted correctly."
   ]
  },
  {
   "cell_type": "code",
   "execution_count": null,
   "metadata": {},
   "outputs": [],
   "source": []
  }
 ],
 "metadata": {
  "kernelspec": {
   "display_name": "Python 3",
   "language": "python",
   "name": "python3"
  },
  "language_info": {
   "codemirror_mode": {
    "name": "ipython",
    "version": 3
   },
   "file_extension": ".py",
   "mimetype": "text/x-python",
   "name": "python",
   "nbconvert_exporter": "python",
   "pygments_lexer": "ipython3",
   "version": "3.6.7"
  }
 },
 "nbformat": 4,
 "nbformat_minor": 4
}
