{
 "cells": [
  {
   "cell_type": "markdown",
   "metadata": {
    "nbgrader": {
     "grade": false,
     "grade_id": "cell-fc1c39d0d6f8b82a",
     "locked": true,
     "schema_version": 1,
     "solution": false
    }
   },
   "source": [
    "# Week 12 Programming Assignment\n",
    "\n",
    "As you're working on identifying data for your final project, it's helpful to spend some time exploring your various data files.  For this week's assignment, I'd like you to take a few of the ideas from the the lectures, review assignment, and tonight's lecture to start exploring the data you plan to use for the final project.\n",
    "\n",
    "For the following activities, you can use just one of the data files that you've identified, or you can do the activities using different data files.  That's up to you.  Please describe what you're doing in a Markdown cell or in the comments of your code.  When you've completed the assignment, submit it as normal."
   ]
  },
  {
   "cell_type": "markdown",
   "metadata": {},
   "source": [
    "### 1. Basic Statistics\n",
    "\n",
    "Use Python to read in your data file and show many rows and columns your data has."
   ]
  },
  {
   "cell_type": "code",
   "execution_count": 184,
   "metadata": {},
   "outputs": [
    {
     "name": "stdout",
     "output_type": "stream",
     "text": [
      "               Unnamed: 0 Unnamed: 1 Life expectancy at birth (years)  \\\n",
      "0              WHO region       Year                           Female   \n",
      "1                  Global       2019                             75.9   \n",
      "2                  Global       2015                             74.9   \n",
      "3                  Global       2010                             73.2   \n",
      "4                  Global       2000                             69.3   \n",
      "5                  Africa       2019                             66.6   \n",
      "6                  Africa       2015                             64.7   \n",
      "7                  Africa       2010                             61.3   \n",
      "8                  Africa       2000                             54.3   \n",
      "9                Americas       2019                             79.8   \n",
      "10               Americas       2015                             79.5   \n",
      "11               Americas       2010                             78.4   \n",
      "12               Americas       2000                             77.1   \n",
      "13        South-East Asia       2019                             73.1   \n",
      "14        South-East Asia       2015                             71.8   \n",
      "15        South-East Asia       2010                             70.0   \n",
      "16        South-East Asia       2000                             64.6   \n",
      "17                 Europe       2019                             81.3   \n",
      "18                 Europe       2015                             80.3   \n",
      "19                 Europe       2010                             79.3   \n",
      "20                 Europe       2000                             76.6   \n",
      "21  Eastern Mediterranean       2019                             71.3   \n",
      "22  Eastern Mediterranean       2015                             70.1   \n",
      "23  Eastern Mediterranean       2010                             69.3   \n",
      "24  Eastern Mediterranean       2000                             66.7   \n",
      "25        Western Pacific       2019                             80.8   \n",
      "26        Western Pacific       2015                             80.3   \n",
      "27        Western Pacific       2010                             78.7   \n",
      "28        Western Pacific       2000                             75.3   \n",
      "\n",
      "   Life expectancy at age 60 (years)  \n",
      "0                             Female  \n",
      "1                               22.7  \n",
      "2                               22.3  \n",
      "3                               21.7  \n",
      "4                               20.4  \n",
      "5                               19.0  \n",
      "6                               18.5  \n",
      "7                               18.0  \n",
      "8                               16.8  \n",
      "9                               24.0  \n",
      "10                              23.8  \n",
      "11                              23.5  \n",
      "12                              22.5  \n",
      "13                              20.0  \n",
      "14                              19.7  \n",
      "15                              19.3  \n",
      "16                              17.4  \n",
      "17                              24.3  \n",
      "18                              23.6  \n",
      "19                              23.0  \n",
      "20                              21.5  \n",
      "21                              19.3  \n",
      "22                              18.9  \n",
      "23                              18.8  \n",
      "24                              18.3  \n",
      "25                              23.9  \n",
      "26                              23.6  \n",
      "27                              22.6  \n",
      "28                              21.2  \n"
     ]
    }
   ],
   "source": [
    "import pandas as pd\n",
    "import os\n",
    "notebook_path = os.path.abspath(\"week12_assignment_2.ipynb\")\n",
    "WHO = os.path.join(os.path.dirname(notebook_path), \"xmart.csv\")\n",
    "life_exp = pd.read_csv(WHO)\n",
    "print(life_exp)\n",
    "rows = life_exp.shape[0]\n",
    "columns = len(life_exp.columns)"
   ]
  },
  {
   "cell_type": "markdown",
   "metadata": {},
   "source": [
    "Note 1: There are 29 total rows of data and a total of 4 columns in the dataset."
   ]
  },
  {
   "cell_type": "markdown",
   "metadata": {},
   "source": [
    "### 2. Data Diversity\n",
    "\n",
    "Use Python to identify how many unique values each column in your data has.  Use Python to identify which column has the greatest number of distinct values (aka the most diversity)? If your data has a unique identifier (e. g. a person or visit or record ID) then find the column with the next most number of unique values."
   ]
  },
  {
   "cell_type": "code",
   "execution_count": 132,
   "metadata": {},
   "outputs": [
    {
     "data": {
      "text/plain": [
       "28"
      ]
     },
     "execution_count": 132,
     "metadata": {},
     "output_type": "execute_result"
    }
   ],
   "source": [
    "len(life_exp)-1"
   ]
  },
  {
   "cell_type": "markdown",
   "metadata": {},
   "source": [
    "Note 2: Since the data is presented with multiple columns of data based on both WHO region and year. As a result, there are multiple unique sets of data for life expectancy of women. The two sets of data given for these categories are for \"at birth\" and \"at age 60\". The header column doesn't have any data, so we must subtract that from the length of the data, giving us the total amount of unique data points of 28."
   ]
  },
  {
   "cell_type": "markdown",
   "metadata": {},
   "source": [
    "### 3. Data Redundancy\n",
    "\n",
    "Use Python to identify any columns in your data where the value for every row is the same.  For example, if you had a gender column and all the rows said 'M', then you would want to write the code that helped you determine that."
   ]
  },
  {
   "cell_type": "code",
   "execution_count": 133,
   "metadata": {},
   "outputs": [
    {
     "data": {
      "text/plain": [
       "27"
      ]
     },
     "execution_count": 133,
     "metadata": {},
     "output_type": "execute_result"
    }
   ],
   "source": [
    "birth = life_exp['Life expectancy at birth (years)'].unique()\n",
    "age_60 = life_exp['Life expectancy at age 60 (years)'].unique()\n",
    "len(birth)\n",
    "len(age_60)"
   ]
  },
  {
   "cell_type": "markdown",
   "metadata": {},
   "source": [
    "Note 3: The amount of unique data entries is one number less than the amount of total unique rows of data. Therefore, this means 1 row of information in this dataset may have redundancies."
   ]
  },
  {
   "cell_type": "markdown",
   "metadata": {},
   "source": [
    "### 4. Range of Values\n",
    "\n",
    "Your data almost certainly has some numeric columns that can be summed or averaged.  Create a histogram that shows the distribution of values for this column."
   ]
  },
  {
   "cell_type": "code",
   "execution_count": 227,
   "metadata": {},
   "outputs": [
    {
     "name": "stdout",
     "output_type": "stream",
     "text": [
      "               Unnamed: 0 Unnamed: 1 Life expectancy at birth (years)  \\\n",
      "1                  Global       2019                             75.9   \n",
      "2                  Global       2015                             74.9   \n",
      "3                  Global       2010                             73.2   \n",
      "4                  Global       2000                             69.3   \n",
      "5                  Africa       2019                             66.6   \n",
      "6                  Africa       2015                             64.7   \n",
      "7                  Africa       2010                             61.3   \n",
      "8                  Africa       2000                             54.3   \n",
      "9                Americas       2019                             79.8   \n",
      "10               Americas       2015                             79.5   \n",
      "11               Americas       2010                             78.4   \n",
      "12               Americas       2000                             77.1   \n",
      "13        South-East Asia       2019                             73.1   \n",
      "14        South-East Asia       2015                             71.8   \n",
      "15        South-East Asia       2010                             70.0   \n",
      "16        South-East Asia       2000                             64.6   \n",
      "17                 Europe       2019                             81.3   \n",
      "18                 Europe       2015                             80.3   \n",
      "19                 Europe       2010                             79.3   \n",
      "20                 Europe       2000                             76.6   \n",
      "21  Eastern Mediterranean       2019                             71.3   \n",
      "22  Eastern Mediterranean       2015                             70.1   \n",
      "23  Eastern Mediterranean       2010                             69.3   \n",
      "24  Eastern Mediterranean       2000                             66.7   \n",
      "25        Western Pacific       2019                             80.8   \n",
      "26        Western Pacific       2015                             80.3   \n",
      "27        Western Pacific       2010                             78.7   \n",
      "28        Western Pacific       2000                             75.3   \n",
      "\n",
      "   Life expectancy at age 60 (years)  \n",
      "1                               22.7  \n",
      "2                               22.3  \n",
      "3                               21.7  \n",
      "4                               20.4  \n",
      "5                               19.0  \n",
      "6                               18.5  \n",
      "7                               18.0  \n",
      "8                               16.8  \n",
      "9                               24.0  \n",
      "10                              23.8  \n",
      "11                              23.5  \n",
      "12                              22.5  \n",
      "13                              20.0  \n",
      "14                              19.7  \n",
      "15                              19.3  \n",
      "16                              17.4  \n",
      "17                              24.3  \n",
      "18                              23.6  \n",
      "19                              23.0  \n",
      "20                              21.5  \n",
      "21                              19.3  \n",
      "22                              18.9  \n",
      "23                              18.8  \n",
      "24                              18.3  \n",
      "25                              23.9  \n",
      "26                              23.6  \n",
      "27                              22.6  \n",
      "28                              21.2  \n",
      "AxesSubplot(0.125,0.125;0.775x0.755)\n",
      "AxesSubplot(0.125,0.125;0.775x0.755)\n"
     ]
    },
    {
     "data": {
      "image/png": "[encoded data removed]",
      "text/plain": [
       "<Figure size 432x288 with 1 Axes>"
      ]
     },
     "metadata": {
      "needs_background": "light"
     },
     "output_type": "display_data"
    }
   ],
   "source": [
    "life_exp2 = pd.read_csv(WHO)\n",
    "#life_exp2.apply(pd.to_numeric, errors='ignore')\n",
    "life_exp2 = life_exp2.drop(life_exp.index[0:1])\n",
    "print(life_exp2)\n",
    "#life_exp2 = life_exp2.astype(float)\n",
    "#life_exp2.groupby('Unnamed: 0')['Life expectancy at birth (years)'].mean().plot(kind='bar')\n",
    "birth = life_exp2['Life expectancy at birth (years)'].hist(bins=5, range=[0,80], color='red')\n",
    "age_60 = life_exp2['Life expectancy at age 60 (years)'].hist(bins=5, range=[0,80], color='blue')\n",
    "print(birth)\n",
    "print(age_60)"
   ]
  },
  {
   "cell_type": "markdown",
   "metadata": {},
   "source": [
    "Note 4: These histogram displays the prevalence of each life expectancy for different regions across the world in varying years. There are two histograms, one for the projection for women at birth (in red) and one at age 60 (in blue)."
   ]
  },
  {
   "cell_type": "markdown",
   "metadata": {},
   "source": [
    "### 5. Discussion\n",
    "\n",
    "Do any additional exploration of this data that you think may be interesting and include your code here.  Then go onto Slack and make a post about what you've observed.  Share your observation.  Share your code, if you like.  Share a screenshot of the data or a chart based on the data.\n",
    "\n",
    "Then comment on at least two other people's observations that they share on Slack.  (Use the reply as thread option in Slack to keep the conversation organized.)"
   ]
  },
  {
   "cell_type": "code",
   "execution_count": null,
   "metadata": {},
   "outputs": [],
   "source": [
    "#groups = dict(list(grouped))\n",
    "#print(groups)\n",
    "#keys = groups.keys()\n",
    "#values = groups.values()\n",
    "\n",
    "#for key, value in groups.items():\n",
    "#    print(key, value['Life expectancy at birth (years)'].astype(float).mean())\n",
    "\n",
    "#plt.bar(keys, values['Life expectancy at birth (years)'].astype(float).mean())"
   ]
  },
  {
   "cell_type": "code",
   "execution_count": 333,
   "metadata": {},
   "outputs": [
    {
     "name": "stdout",
     "output_type": "stream",
     "text": [
      "<pandas.core.groupby.generic.SeriesGroupBy object at 0x7f1bbde620f0>\n",
      "{'Africa': 61.72500000000001, 'Americas': 78.7, 'Eastern Mediterranean': 69.35, 'Europe': 79.375, 'Global': 73.325, 'South-East Asia': 69.875, 'Western Pacific': 78.775}\n"
     ]
    },
    {
     "data": {
      "text/plain": [
       "(array([0, 1, 2, 3, 4, 5, 6]), <a list of 7 Text major ticklabel objects>)"
      ]
     },
     "execution_count": 333,
     "metadata": {},
     "output_type": "execute_result"
    },
    {
     "data": {
      "image/png": "[encoded data removed]",
      "text/plain": [
       "<Figure size 432x288 with 1 Axes>"
      ]
     },
     "metadata": {
      "needs_background": "light"
     },
     "output_type": "display_data"
    }
   ],
   "source": [
    "import matplotlib.pyplot as plt\n",
    "grouped = life_exp2.groupby('Unnamed: 0')\n",
    "print(grouped['Life expectancy at birth (years)']) #.agg(['mean'])\n",
    "life = {}\n",
    "life_60 = []\n",
    "for key, item in grouped:\n",
    "    #print(grouped.get_group(key)['Life expectancy at birth (years)'].astype(float).mean())\n",
    "    life[key] = grouped.get_group(key)['Life expectancy at birth (years)'].astype(float).mean()\n",
    "    life_60.append(grouped.get_group(key)['Life expectancy at age 60 (years)'].astype(float).mean())\n",
    "print(life)\n",
    "names = list(life.keys())\n",
    "values = list(life.values())\n",
    "plt.bar(range(len(life)),values,tick_label=names)\n",
    "plt.bar(range(len(life)),life_60,tick_label=names)\n",
    "plt.xticks(rotation = 75)"
   ]
  },
  {
   "cell_type": "markdown",
   "metadata": {},
   "source": [
    "Note 5: The additional exploration I took the mean of the life expectancy over the years, grouped by WHO regions. I then coupled the data for life expectancy at birth (blue) with the life expectancy at age 60 (orange). Thus, we are able to see the mean life expectancy for women across the different regions, taken at both birth and age 60. I ran into many issues trying to group them by the WHO regions, as well correcting the data types to allow for the creation of the histogram and therefore required the additional time."
   ]
  },
  {
   "cell_type": "markdown",
   "metadata": {},
   "source": [
    "---\n",
    "\n",
    "## Submitting Your Work\n",
    "\n",
    "In order to submit your work, you'll need to use the `git` command line program to **add** your homework file (this file) to your local repository, **commit** your changes to your local repository, and then **push** those changes up to github.com.  From there, I'll be able to **pull** the changes down and do my grading.  I'll provide some feedback, **commit** and **push** my comments back to you.  The first line of code below will **pull** down my comments into your local folders.\n",
    "\n",
    "To run through everything one last time and submit your work:\n",
    "1. Use the `Kernel` -> `Restart Kernel and Run All Cells` menu option to run everything from top to bottom and stop here.\n",
    "2. Save this note with Ctrl-S (or Cmd-S)\n",
    "2. Skip down to the last command cell (the one starting with `%%bash`) and run that cell.\n",
    "\n",
    "If anything fails along the way with this submission part of the process, let me know.  I'll help you troubleshoort."
   ]
  },
  {
   "cell_type": "code",
   "execution_count": null,
   "metadata": {},
   "outputs": [],
   "source": [
    "assert False, \"DO NOT REMOVE THIS LINE\""
   ]
  },
  {
   "cell_type": "markdown",
   "metadata": {},
   "source": [
    "---"
   ]
  },
  {
   "cell_type": "code",
   "execution_count": 334,
   "metadata": {},
   "outputs": [
    {
     "name": "stdout",
     "output_type": "stream",
     "text": [
      "Already up to date.\n",
      "[main 94cc8a2] Submitting the week 12 assignment\n",
      " 2 files changed, 526 insertions(+), 5 deletions(-)\n",
      " create mode 100644 week12/week12_assignment_2.ipynb\n"
     ]
    },
    {
     "name": "stderr",
     "output_type": "stream",
     "text": [
      "To github.com:shreyadash/hds5210-2021.git\n",
      "   c822158..94cc8a2  main -> main\n"
     ]
    }
   ],
   "source": [
    "%%bash\n",
    "git pull\n",
    "git add week12_assignment_2.ipynb\n",
    "git commit -a -m \"Submitting the week 12 assignment\"\n",
    "git push"
   ]
  },
  {
   "cell_type": "markdown",
   "metadata": {},
   "source": [
    "\n",
    "---\n",
    "\n",
    "If the message above says something like _Submitting the week 10 review exercises_ or _Everything is up to date_, then your work was submitted correctly."
   ]
  }
 ],
 "metadata": {
  "celltoolbar": "Create Assignment",
  "kernelspec": {
   "display_name": "Python 3",
   "language": "python",
   "name": "python3"
  },
  "language_info": {
   "codemirror_mode": {
    "name": "ipython",
    "version": 3
   },
   "file_extension": ".py",
   "mimetype": "text/x-python",
   "name": "python",
   "nbconvert_exporter": "python",
   "pygments_lexer": "ipython3",
   "version": "3.6.7"
  }
 },
 "nbformat": 4,
 "nbformat_minor": 2
}
