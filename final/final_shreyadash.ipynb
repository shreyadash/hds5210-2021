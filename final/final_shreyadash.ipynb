{
 "cells": [
  {
   "cell_type": "markdown",
   "metadata": {},
   "source": [
    "# Final Project\n",
    "\n",
    "This final project is looking at health data provided about women's health outcomes throughout the world by combining and visualizing these statistics to see a comparison in quality of life."
   ]
  },
  {
   "cell_type": "markdown",
   "metadata": {},
   "source": [
    "### 1. Life Expectancy at Birth and Age 60 Data\n",
    "\n",
    "This set of code compares the life expectancy outcomes for women in the main World Health Organization (WHO) regions in two age ranges, at birth and at age 60. The code organizes the data as provided and concludes with a visualization of the data in a histogram format. In this phase, there is also a lot of exploration done to understand the length, quantity, and quality of the data in the file. This section also uses a local CSV file as the data source."
   ]
  },
  {
   "cell_type": "code",
   "execution_count": 1,
   "metadata": {},
   "outputs": [
    {
     "name": "stdout",
     "output_type": "stream",
     "text": [
      "               Unnamed: 0 Unnamed: 1 Life expectancy at birth (years)  \\\n",
      "0              WHO region       Year                           Female   \n",
      "1                  Global       2019                             75.9   \n",
      "2                  Global       2015                             74.9   \n",
      "3                  Global       2010                             73.2   \n",
      "4                  Global       2000                             69.3   \n",
      "5                  Africa       2019                             66.6   \n",
      "6                  Africa       2015                             64.7   \n",
      "7                  Africa       2010                             61.3   \n",
      "8                  Africa       2000                             54.3   \n",
      "9                Americas       2019                             79.8   \n",
      "10               Americas       2015                             79.5   \n",
      "11               Americas       2010                             78.4   \n",
      "12               Americas       2000                             77.1   \n",
      "13        South-East Asia       2019                             73.1   \n",
      "14        South-East Asia       2015                             71.8   \n",
      "15        South-East Asia       2010                             70.0   \n",
      "16        South-East Asia       2000                             64.6   \n",
      "17                 Europe       2019                             81.3   \n",
      "18                 Europe       2015                             80.3   \n",
      "19                 Europe       2010                             79.3   \n",
      "20                 Europe       2000                             76.6   \n",
      "21  Eastern Mediterranean       2019                             71.3   \n",
      "22  Eastern Mediterranean       2015                             70.1   \n",
      "23  Eastern Mediterranean       2010                             69.3   \n",
      "24  Eastern Mediterranean       2000                             66.7   \n",
      "25        Western Pacific       2019                             80.8   \n",
      "26        Western Pacific       2015                             80.3   \n",
      "27        Western Pacific       2010                             78.7   \n",
      "28        Western Pacific       2000                             75.3   \n",
      "\n",
      "   Life expectancy at age 60 (years)  \n",
      "0                             Female  \n",
      "1                               22.7  \n",
      "2                               22.3  \n",
      "3                               21.7  \n",
      "4                               20.4  \n",
      "5                               19.0  \n",
      "6                               18.5  \n",
      "7                               18.0  \n",
      "8                               16.8  \n",
      "9                               24.0  \n",
      "10                              23.8  \n",
      "11                              23.5  \n",
      "12                              22.5  \n",
      "13                              20.0  \n",
      "14                              19.7  \n",
      "15                              19.3  \n",
      "16                              17.4  \n",
      "17                              24.3  \n",
      "18                              23.6  \n",
      "19                              23.0  \n",
      "20                              21.5  \n",
      "21                              19.3  \n",
      "22                              18.9  \n",
      "23                              18.8  \n",
      "24                              18.3  \n",
      "25                              23.9  \n",
      "26                              23.6  \n",
      "27                              22.6  \n",
      "28                              21.2  \n"
     ]
    }
   ],
   "source": [
    "import pandas as pd\n",
    "import os\n",
    "notebook_path = os.path.abspath(\"final.ipynb\")\n",
    "WHO = os.path.join(os.path.dirname(notebook_path), \"xmart.csv\")\n",
    "life_exp = pd.read_csv(WHO)\n",
    "print(life_exp)\n",
    "rows = life_exp.shape[0]\n",
    "columns = len(life_exp.columns)"
   ]
  },
  {
   "cell_type": "markdown",
   "metadata": {},
   "source": [
    "Note 1a: There are 29 total rows of data and a total of 4 columns in the dataset."
   ]
  },
  {
   "cell_type": "code",
   "execution_count": 2,
   "metadata": {},
   "outputs": [
    {
     "data": {
      "text/plain": [
       "28"
      ]
     },
     "execution_count": 2,
     "metadata": {},
     "output_type": "execute_result"
    }
   ],
   "source": [
    "len(life_exp)-1"
   ]
  },
  {
   "cell_type": "markdown",
   "metadata": {},
   "source": [
    "Note 1b: Since the data is presented with multiple columns of data based on both WHO region and year. As a result, there are multiple unique sets of data for life expectancy of women. The two sets of data given for these categories are for \"at birth\" and \"at age 60\". The header column doesn't have any data, so we must subtract that from the length of the data, giving us the total amount of unique data points of 28."
   ]
  },
  {
   "cell_type": "code",
   "execution_count": 3,
   "metadata": {},
   "outputs": [
    {
     "data": {
      "text/plain": [
       "27"
      ]
     },
     "execution_count": 3,
     "metadata": {},
     "output_type": "execute_result"
    }
   ],
   "source": [
    "birth = life_exp['Life expectancy at birth (years)'].unique()\n",
    "age_60 = life_exp['Life expectancy at age 60 (years)'].unique()\n",
    "len(birth)\n",
    "len(age_60)"
   ]
  },
  {
   "cell_type": "markdown",
   "metadata": {},
   "source": [
    "Note 1c: The amount of unique data entries is one number less than the amount of total unique rows of data. Therefore, this means 1 row of information in this dataset may have redundancies."
   ]
  },
  {
   "cell_type": "code",
   "execution_count": 6,
   "metadata": {},
   "outputs": [
    {
     "name": "stdout",
     "output_type": "stream",
     "text": [
      "               Unnamed: 0 Unnamed: 1 Life expectancy at birth (years)  \\\n",
      "1                  Global       2019                             75.9   \n",
      "2                  Global       2015                             74.9   \n",
      "3                  Global       2010                             73.2   \n",
      "4                  Global       2000                             69.3   \n",
      "5                  Africa       2019                             66.6   \n",
      "6                  Africa       2015                             64.7   \n",
      "7                  Africa       2010                             61.3   \n",
      "8                  Africa       2000                             54.3   \n",
      "9                Americas       2019                             79.8   \n",
      "10               Americas       2015                             79.5   \n",
      "11               Americas       2010                             78.4   \n",
      "12               Americas       2000                             77.1   \n",
      "13        South-East Asia       2019                             73.1   \n",
      "14        South-East Asia       2015                             71.8   \n",
      "15        South-East Asia       2010                             70.0   \n",
      "16        South-East Asia       2000                             64.6   \n",
      "17                 Europe       2019                             81.3   \n",
      "18                 Europe       2015                             80.3   \n",
      "19                 Europe       2010                             79.3   \n",
      "20                 Europe       2000                             76.6   \n",
      "21  Eastern Mediterranean       2019                             71.3   \n",
      "22  Eastern Mediterranean       2015                             70.1   \n",
      "23  Eastern Mediterranean       2010                             69.3   \n",
      "24  Eastern Mediterranean       2000                             66.7   \n",
      "25        Western Pacific       2019                             80.8   \n",
      "26        Western Pacific       2015                             80.3   \n",
      "27        Western Pacific       2010                             78.7   \n",
      "28        Western Pacific       2000                             75.3   \n",
      "\n",
      "   Life expectancy at age 60 (years)  \n",
      "1                               22.7  \n",
      "2                               22.3  \n",
      "3                               21.7  \n",
      "4                               20.4  \n",
      "5                               19.0  \n",
      "6                               18.5  \n",
      "7                               18.0  \n",
      "8                               16.8  \n",
      "9                               24.0  \n",
      "10                              23.8  \n",
      "11                              23.5  \n",
      "12                              22.5  \n",
      "13                              20.0  \n",
      "14                              19.7  \n",
      "15                              19.3  \n",
      "16                              17.4  \n",
      "17                              24.3  \n",
      "18                              23.6  \n",
      "19                              23.0  \n",
      "20                              21.5  \n",
      "21                              19.3  \n",
      "22                              18.9  \n",
      "23                              18.8  \n",
      "24                              18.3  \n",
      "25                              23.9  \n",
      "26                              23.6  \n",
      "27                              22.6  \n",
      "28                              21.2  \n",
      "AxesSubplot(0.125,0.125;0.775x0.755)\n",
      "AxesSubplot(0.125,0.125;0.775x0.755)\n"
     ]
    },
    {
     "data": {
      "text/plain": [
       "Text(0, 0.5, 'Frequency')"
      ]
     },
     "execution_count": 6,
     "metadata": {},
     "output_type": "execute_result"
    },
    {
     "data": {
      "image/png": "[encoded data removed]",
      "text/plain": [
       "<Figure size 3600x1440 with 1 Axes>"
      ]
     },
     "metadata": {
      "needs_background": "light"
     },
     "output_type": "display_data"
    }
   ],
   "source": [
    "import matplotlib.pyplot as plt\n",
    "life_exp2 = pd.read_csv(WHO)\n",
    "life_exp2 = life_exp2.drop(life_exp.index[0:1])\n",
    "print(life_exp2)\n",
    "birth = life_exp2['Life expectancy at birth (years)'].hist(bins=5, range=[0,80], color='red')\n",
    "age_60 = life_exp2['Life expectancy at age 60 (years)'].hist(bins=5, range=[0,80], color='blue')\n",
    "print(birth)\n",
    "print(age_60)\n",
    "birth.figure.set_figheight(20)\n",
    "age_60.figure.set_figwidth(50)\n",
    "plt.title('Life Expectancy at Birth and Age 60', fontsize = 30)\n",
    "plt.xlabel('Age (in years)', fontsize = 30)\n",
    "plt.ylabel('Frequency', fontsize = 30)"
   ]
  },
  {
   "cell_type": "markdown",
   "metadata": {},
   "source": [
    "Note 1d: These histogram displays the prevalence of each life expectancy for different regions across the world in varying years. There are two histograms, one for the projection for women at birth (in red) and one at age 60 (in blue)."
   ]
  },
  {
   "cell_type": "code",
   "execution_count": null,
   "metadata": {},
   "outputs": [],
   "source": [
    "import matplotlib.pyplot as plt\n",
    "grouped = life_exp2.groupby('Unnamed: 0')\n",
    "print(grouped['Life expectancy at birth (years)'])\n",
    "life = {}\n",
    "life_60 = []\n",
    "for key, item in grouped:\n",
    "    #print(grouped.get_group(key)['Life expectancy at birth (years)'].astype(float).mean())\n",
    "    life[key] = grouped.get_group(key)['Life expectancy at birth (years)'].astype(float).mean()\n",
    "    life_60.append(grouped.get_group(key)['Life expectancy at age 60 (years)'].astype(float).mean())\n",
    "names = list(life.keys())\n",
    "values = list(life.values())\n",
    "plt.bar(range(len(life)),values,tick_label=names)\n",
    "plt.bar(range(len(life)),life_60,tick_label=names)\n",
    "plt.xticks(rotation = 75)\n",
    "plt.title('Life Expectancy at Birth (Blue) and Age 60 (Orange)')\n",
    "plt.xlabel('WHO Region')\n",
    "plt.ylabel('Age (in years)')"
   ]
  },
  {
   "cell_type": "markdown",
   "metadata": {},
   "source": [
    "Note 1e: The additional exploration I took the mean of the life expectancy over the years, grouped by WHO regions. I then coupled the data for life expectancy at birth (blue) with the life expectancy at age 60 (orange). Thus, we are able to see the mean life expectancy for women across the different regions, taken at both birth and age 60. Overall, the regions with higher life expectancies include countries in the Western Pacific, European, and American WHO regions, wich African countries having the lowest life expectancy rates both at birth and at age 60."
   ]
  },
  {
   "cell_type": "code",
   "execution_count": null,
   "metadata": {},
   "outputs": [],
   "source": [
    "print(life)\n",
    "print(life_60)\n",
    "i = 0\n",
    "life_exp_joined = {}\n",
    "for key,value in life.items():\n",
    "    life_exp_joined[key] = [key, value, life_60[i]]\n",
    "    i += 1\n",
    "print(life_exp_joined)\n",
    "df_life_exp = pd.DataFrame.from_dict(life_exp_joined, orient='index', columns=['WHO Region', 'Life Expectancy at Birth','Life Expectancy at Age 60'])\n",
    "df_life_exp"
   ]
  },
  {
   "cell_type": "markdown",
   "metadata": {},
   "source": [
    "Note 1f: This last code chunk is preparing this CSV file to be concatenated at the final step of this project. All data sources that have been found can be combined through their WHO Region classification. Thus, now all the mean CSV data (over the years of 2000-2019) about womens' Life Expectancy Rates at both birth and age 60 are together in one dataframe."
   ]
  },
  {
   "cell_type": "markdown",
   "metadata": {},
   "source": [
    "### 2. Maternal Mortality Rates Data\n",
    "\n",
    "This set of code compares the maternal mortality rate among the main World Health Organization (WHO) regions across the years 2000 to 2017. The data provided is the maternal mortality ratio per 100,000 live births, and also tracks the percent of births attended to by a skilled health personnel every five years in the \"Global\" catergory. In this phase, there is also a lot of exploration done to understand the length, quantity, and quality of the data in the file. This section also uses a local JSON file as the data source."
   ]
  },
  {
   "cell_type": "code",
   "execution_count": null,
   "metadata": {},
   "outputs": [],
   "source": [
    "import json\n",
    "import os\n",
    "MM_path = os.path.abspath(\"final.ipynb\")\n",
    "MM = os.path.join(os.path.dirname(MM_path), \"data.json\")"
   ]
  },
  {
   "cell_type": "code",
   "execution_count": null,
   "metadata": {},
   "outputs": [],
   "source": [
    "def m_mortality(json_file):\n",
    "    \"\"\" (str) -> list\n",
    "    This function will read the JSON file to identify WHO region, year, and maternal mortality rate per entry.\n",
    "    The function will return this data in form of a list.\n",
    "    \"\"\"\n",
    "    with open(json_file) as f:\n",
    "        mortality = json.load(f)\n",
    "    \n",
    "    mmort = []\n",
    "    \n",
    "    for data in mortality.get('fact'):\n",
    "        WHO_region = data.get('dims').get('REGION')\n",
    "        year = data.get('dims').get('YEAR')\n",
    "        rate = data.get('Value')\n",
    "        i = rate.find('[')\n",
    "        if (i != -1):\n",
    "            mrate = rate[:i].strip()\n",
    "        array = [WHO_region, year, mrate]\n",
    "    \n",
    "        mmort.append(array)\n",
    "        \n",
    "    return mmort\n",
    "    \n",
    "mort_list = m_mortality(MM)\n",
    "df_mmortality = pd.DataFrame(mort_list, columns = ['WHO Region', 'Year', 'Maternal Mortality Rate'])\n",
    "df_mmortality['Year'] = df_mmortality['Year'].astype(int)\n",
    "df_mmortality['Maternal Mortality Rate'] = df_mmortality['Maternal Mortality Rate'].astype(int)\n",
    "df_mmortality"
   ]
  },
  {
   "cell_type": "markdown",
   "metadata": {},
   "source": [
    "Note 2a: In this chunk of code, the JSON file is imported from the local source, and is then organized into a list of the information needed to create the visualization desired. The WHO region, year, and mortality rate values (per 100,000 people) are important to note. Then, this data will be used to create a data visualization."
   ]
  },
  {
   "cell_type": "code",
   "execution_count": null,
   "metadata": {},
   "outputs": [],
   "source": [
    "df_mmortality.groupby(['WHO Region'])['Maternal Mortality Rate'].plot.kde(\n",
    "    xlim=(0,500),\n",
    "    legend=True,\n",
    "    figsize=(17,10))\n",
    "plt.title('Maternal Mortality Rates')\n",
    "plt.xlabel('Mortality Rate (per 100,000 live births)')\n",
    "plt.ylabel('Distribution')"
   ]
  },
  {
   "cell_type": "markdown",
   "metadata": {},
   "source": [
    "Note 2b: The visualization above shows the change of mortality rate over the years of 2000 to 2017, as color coded by the respective WHO regions. The data shows that there are significantly lower maternal mortality rates for countries in the regions of Europe, Americas, and Western Pacific. On the other hand, the African and Eastern Mediterranean have much higher maternal mortality rates, as shown by how far right those curves are moving down on the graph above."
   ]
  },
  {
   "cell_type": "code",
   "execution_count": null,
   "metadata": {},
   "outputs": [],
   "source": [
    "mm_max = df_mmortality.groupby(['WHO Region'])['Maternal Mortality Rate'].max()\n",
    "mm_min = df_mmortality.groupby(['WHO Region'])['Maternal Mortality Rate'].min()\n",
    "mm_mean = df_mmortality.groupby(['WHO Region'])['Maternal Mortality Rate'].mean()\n",
    "mm_minmax = pd.merge(mm_min, mm_max, on=\"WHO Region\")\n",
    "maternal_mort = pd.merge(mm_minmax, mm_mean, on=\"WHO Region\")\n",
    "maternal_mort.rename(columns={\"Maternal Mortality Rate_x\": \"Min Maternal Mortality Rate\", \"Maternal Mortality Rate_y\": \"Max Maternal Mortality Rate\", \"Maternal Mortality Rate\": \"Mean Maternal Mortality Rate\"})"
   ]
  },
  {
   "cell_type": "markdown",
   "metadata": {},
   "source": [
    "### 3. Adolescent Birth and Abortion Rates Data\n",
    "\n",
    "This set of code compares adolescent birth rates among the main World Health Organization (WHO) regions across the years 2000 to 2015 grouped every 5 years. The data provided is the annual number of births to women 15 to 19 years per 1000 women, and also periodically tracks the percent of births attended to by a skilled health personnel. In this phase, there is also a lot of exploration done to understand the length, quantity, and quality of the data in the file."
   ]
  },
  {
   "cell_type": "code",
   "execution_count": null,
   "metadata": {},
   "outputs": [],
   "source": [
    "import pandas as pd\n",
    "adolescent_BR = pd.read_html('https://en.wikipedia.org/wiki/Prevalence_of_teenage_pregnancy')\n",
    "birthrate = adolescent_BR[3]\n",
    "print(birthrate)"
   ]
  },
  {
   "cell_type": "code",
   "execution_count": null,
   "metadata": {},
   "outputs": [],
   "source": [
    "region_ID = {'Africa': ['Algeria','Angola','Benin','Botswana','Burkina Faso','Burundi','Cameroon','Cape Verde','Central African Republic','Chad','Comoros','Ivory Coast','Democratic Republic of the Congo','Equatorial Guinea','Eritrea','Ethiopia','Gabon','Gambia','Ghana','Guinea','Guinea-Bissau','Kenya','Lesotho','Liberia','Madagascar','Malawi','Mali','Mauritania','Mauritius','Mozambique','Namibia','Niger','Nigeria','Republic of the Congo','Rwanda','São Tomé and Príncipe','Senegal','Seychelles','Sierra Leone','Somalia','South Africa','South Sudan','Eswatini','Togo','Uganda','Tanzania','Zambia','Zimbabwe'],\n",
    "            'Americas': ['Antigua and Barbuda','Argentina','Bahamas','Barbados','Belize','Bolivia','Brazil','Canada','Chile','Colombia','Costa Rica','Cuba','Dominica','Dominican Republic','Ecuador','El Salvador','Grenada','Guatemala','Guyana','Haiti','Honduras','Jamaica','Mexico','Nicaragua','Panama','Paraguay','Peru','Saint Kitts and Nevis','Saint Lucia','Saint Vincent and the Grenadines','Suriname','Trinidad and Tobago','United States','Uruguay','Venezuela'],\n",
    "            'South-East Asia': ['Bangladesh','Bhutan','North Korea','India','Indonesia','Maldives','Myanmar','Nepal','Sri Lanka','Thailand','Timor-Leste'],\n",
    "            'Europe': ['Albania','Andorra','Armenia','Austria','Azerbaijan','Belarus','Belgium','Bosnia and Herzegovina','Bulgaria','Croatia','Cyprus','Czech Republic','Denmark','Estonia','Finland','France','Georgia','Germany','Greece','Hungary','Iceland','Ireland','Israel','Italy','Kazakhstan','Kyrgyzstan','Latvia','Lithuania','Luxembourg','Malta','Moldova','Monaco','Montenegro','Netherlands','North Macedonia','Norway','Poland','Portugal','Romania','Russia','San Marino','Serbia','Slovakia','Slovenia','Spain','Sweden','Switzerland','Tajikistan','Turkey','Turkmenistan','Ukraine','United Kingdom','Uzbekistan'],\n",
    "            'Eastern Mediterranean': ['Afghanistan','Bahrain','Djibouti','Egypt','Iran','Iraq','Jordan','Kuwait','Lebanon','Libya','Morocco','Oman','Pakistan','Palestine','Qatar','Saudi Arabia','Somalia','Sudan','Syria','Tunisia','United Arab Emirates','Yemen'],\n",
    "            'Western Pacific': ['Australia','Brunei','Cambodia','China','Cook Islands','Fiji','Japan','Kiribati','Laos','Malaysia','Marshall Islands','Micronesia','Mongolia','Nauru','New Zealand','Niue','Palau','Papua New Guinea','Philippines','Samoa','Singapore','Solomon Islands','South Korea','Taiwan','Tonga','Tuvalu','Vanuatu','Vietnam']}"
   ]
  },
  {
   "cell_type": "markdown",
   "metadata": {},
   "source": [
    "Note 3a: The region_ID data is retrieved from the dictionary with data provided by https://en.wikipedia.org/wiki/List_of_WHO_regions. This data is then used in a function that will add a column of values that will categorize the given Country name into the appropriate WHO region."
   ]
  },
  {
   "cell_type": "code",
   "execution_count": null,
   "metadata": {},
   "outputs": [],
   "source": [
    "def BR_WHO(data):\n",
    "    \"\"\" (str) -> str\n",
    "    This function will return a string of the WHO region based on the country the data is for.\n",
    "    This function will return a list of these strings.\n",
    "    \"\"\"\n",
    "    region = []\n",
    "    for country in data.Country:\n",
    "\n",
    "        WHO = ''\n",
    "        for k,v in region_ID.items():\n",
    "            if(country in v):\n",
    "                WHO = k\n",
    "                break\n",
    "        \n",
    "        print(WHO)\n",
    "        region.append(WHO)\n",
    "        \n",
    "    data['WHO Region'] = region\n",
    "    \n",
    "BR_WHO(birthrate)\n",
    "print(birthrate)"
   ]
  },
  {
   "cell_type": "markdown",
   "metadata": {},
   "source": [
    "Note 2b: The function above uses the date from the Wikipedia page of all the countries that are catergorized into which WHO Region. This function can essentially be used in any future needs if there is just a country provided in order to accurately section off the data by WHO Region. This will be helpful to concatenate all the data from the different sources down the line."
   ]
  },
  {
   "cell_type": "code",
   "execution_count": null,
   "metadata": {},
   "outputs": [],
   "source": [
    "#BR = birthrate['birth rate'].hist(bins=40, range=[0,60], color='blue')\n",
    "BR_countries = birthrate.Country\n",
    "birth_rate = birthrate['birth rate']\n",
    "abortion_rate = birthrate['abortion rate']\n",
    "BR = plt.bar(range(len(BR_countries)),birth_rate,tick_label=birthrate.Country)\n",
    "AR = plt.bar(range(len(BR_countries)),abortion_rate,tick_label=birthrate.Country)\n",
    "plt.xticks(rotation = 75)\n",
    "plt.title('Adolescent Birth Rates (Blue) and Abortion Rates (Orange)')\n",
    "plt.xlabel('Country')\n",
    "plt.ylabel('Age (in years)')"
   ]
  },
  {
   "cell_type": "code",
   "execution_count": null,
   "metadata": {},
   "outputs": [],
   "source": [
    "birthrate_plot = birthrate[['Country', 'birth rate', 'abortion rate']]\n",
    "BR_plot = birthrate_plot.plot.bar(x='Country',rot=75)\n",
    "\n",
    "BR_plot.figure.set_figheight(7)\n",
    "BR_plot.figure.set_figwidth(15)\n",
    "plt.title('Adolescent Birth Rates (Blue) and Abortion Rates (Orange)')\n",
    "plt.xlabel('Country')\n",
    "plt.ylabel('Age (in years)')"
   ]
  },
  {
   "cell_type": "markdown",
   "metadata": {},
   "source": [
    "Note 3c: The 2 graphs above show a comparison of the birth and abortion rates for adolescents between the ages of 15 to 19 years of age in the above-mentioned countries. The major trends across the countries show increased birth rates compared to abortion rates, with the US havin the higher birth rate overall and Romania having the highest abortion rate. In come countries (such as France, Denmark, Sweden, and Norway), the abortion rate exceeds the birth rate of adolescents. This may be interesting to compare to the secual health education and access to resources across these different nations, which may attribute to their respective statistics. The data for this was found from an internet-based source. The dataframe also included a function to identify and append a column identifying the WHO region each of these countries belonged to. The data will now be grouped by this data and presented below."
   ]
  },
  {
   "cell_type": "code",
   "execution_count": null,
   "metadata": {},
   "outputs": [],
   "source": [
    "print(birthrate)\n",
    "group_BR = birthrate.groupby('WHO Region')\n",
    "BRAR_joined = group_BR['birth rate', 'abortion rate'].mean()\n",
    "BRAR_joined"
   ]
  },
  {
   "cell_type": "markdown",
   "metadata": {},
   "source": [
    "Note 3d: This last code chunk for section 3 has a summary of the adolescent birth and abortion rates grouped by WHO regions. This data will be used to concatenate in the final step of this project."
   ]
  },
  {
   "cell_type": "markdown",
   "metadata": {},
   "source": [
    "### 4. Consolidated Data\n",
    "\n",
    "This set of code joins all the data looked at previously from both World Health Organization (WHO) regions and data from an internet source (Wikipedia) to get consolidated data about women's health outcomes for life expectancy, maternal mortality rates, and adolescent birth rates for various countries. In this phase, there is also a lot of exploration done to understand the length, quantity, and quality of the data in the file. The data sources are the CSV, JSON, and internet sources used previously, which are concatenated."
   ]
  },
  {
   "cell_type": "code",
   "execution_count": null,
   "metadata": {},
   "outputs": [],
   "source": [
    "WHO_mini_merge = pd.merge(df_life_exp, BRAR_joined, how = \"outer\", on=\"WHO Region\")\n",
    "WHO_mini_merge\n",
    "WHO_merged = pd.merge(WHO_mini_merge, maternal_mort, how = \"outer\", on=\"WHO Region\")\n",
    "WHO_merged\n",
    "WHO_merged['birth rate'] = WHO_merged['birth rate'].fillna(0)\n",
    "WHO_merged['abortion rate'] = WHO_merged['abortion rate'].fillna(0)\n",
    "WHO_merged.rename(columns={\"Maternal Mortality Rate_x\": \"Min Maternal Mortality Rate\", \"Maternal Mortality Rate_y\": \"Max Maternal Mortality Rate\", \"Maternal Mortality Rate\": \"Mean Maternal Mortality Rate\", \"birth rate\": \"Adolescent Birth Rate\", \"abortion rate\": \"Adolescent Abortion Rate\"})"
   ]
  },
  {
   "cell_type": "markdown",
   "metadata": {},
   "source": [
    "Note 4a: This data table shows the culmination of all the data collected in previous sections 1-3 of the life expectancy of women at birth and age 60, the minimum and maximum mortality rates for women, and the adolescent birth and abortion rates for specific WHO regions as available. The data will be visualized all together in the code below. For the birth and abortion rates, data for only 3 WHO regions were available, thus there is less data for those columns than the other data columns."
   ]
  },
  {
   "cell_type": "code",
   "execution_count": null,
   "metadata": {},
   "outputs": [],
   "source": [
    "WHO_merged_plot = WHO_merged[['WHO Region', 'Life Expectancy at Birth', 'Life Expectancy at Age 60', 'birth rate', 'abortion rate', 'Maternal Mortality Rate']]\n",
    "WHO_plot = WHO_merged_plot.plot.bar(x='WHO Region',rot=75)\n",
    "\n",
    "WHO_plot.figure.set_figheight(7)\n",
    "WHO_plot.figure.set_figwidth(15)\n",
    "plt.title('Womens Global Health Outcomes')\n",
    "plt.xlabel('WHO Region')\n",
    "plt.ylabel('Count (per 100,000) or Age (in years)')"
   ]
  },
  {
   "cell_type": "markdown",
   "metadata": {},
   "source": [
    "Note 4b: The data visualizations above shows the consolidated findings about womens' health outcomes in the various WHO regions on a global scale. The trends show similities in health outcomes for women based on their specific regions. For the life expectancy at both birth and age 60, women in the Americas, Europe, and Western Pacific have much better health outcomes and statistics than their counterparts in the African and Eastern Mediterranean regions. The maternal mortality rate, contrastingly, has significantly higher rates for Africa, South-East Asia, and Eastern Mediterranean regions with the Americas, Western Pacific, and European regions having much lower maternal mortality rates. The adolescent birth rates are relatively high in the Americans, Europe, and Western Pacific, along with the adolescent abortion rates. These statistics can possibly be attributed to varying qualities of life or health resources and technology available, but more research can be done to understand the social determinants of health that cause these statistics to appear so."
   ]
  },
  {
   "cell_type": "markdown",
   "metadata": {},
   "source": [
    "### 5. Conclusion\n",
    "\n",
    "In this project, I aimed to highlight many of the global statistics pertinant to women's health outcomes, and hoped to pull all those categories of data together into one location for easier access when considering the different health conditions for women specifically across the world. While many websites, like WHO, have this data in one centralized website, it is oftern difficult to easily see the different kinds of data side by side in this manner. I was able to integrate much of my learning from the semester by incorporating 3 different data sources (CSV, JSON, and internet sources) and by using both local files (downloaded from WHO) as well as Internet-based data files from Wikipedia. I also used various forms of data aggregation, transformation, and merging to eventually create more detailed data visualizations for all these subcategories of womens' health data for Life Expectancy (at birth and age 60), Maternal Mortality Rates, and Adolsecnt  Birth and Abortion rates for various countries that I filtered into the WHO Regions through my own funtion creation to enable me to concatenate the data all together. I definitely learned a lot from this project and hope to use these skills to keep working with health related data in the future."
   ]
  },
  {
   "cell_type": "code",
   "execution_count": null,
   "metadata": {},
   "outputs": [],
   "source": [
    "assert False, \"DO NOT REMOVE THIS LINE\""
   ]
  },
  {
   "cell_type": "code",
   "execution_count": null,
   "metadata": {},
   "outputs": [],
   "source": [
    "%%bash\n",
    "git pull\n",
    "git add final_shreyadash.ipynb\n",
    "git commit -a -m \"Submitting the final assignment\"\n",
    "git push"
   ]
  }
 ],
 "metadata": {
  "kernelspec": {
   "display_name": "Python 3",
   "language": "python",
   "name": "python3"
  },
  "language_info": {
   "codemirror_mode": {
    "name": "ipython",
    "version": 3
   },
   "file_extension": ".py",
   "mimetype": "text/x-python",
   "name": "python",
   "nbconvert_exporter": "python",
   "pygments_lexer": "ipython3",
   "version": "3.6.7"
  }
 },
 "nbformat": 4,
 "nbformat_minor": 4
}
