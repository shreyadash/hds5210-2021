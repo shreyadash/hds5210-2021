{
 "cells": [
  {
   "cell_type": "markdown",
   "metadata": {
    "nbgrader": {
     "grade": false,
     "grade_id": "intro",
     "locked": true,
     "schema_version": 1,
     "solution": false
    }
   },
   "source": [
    "# Week 4 Exercises\n",
    "\n",
    "See: _McKinney 3.1_ and [Python Documentation](https://docs.python.org/3/tutorial/datastructures.html) section 5 on data structures.\n",
    "\n",
    "Modules 15 through 20 have all been about different built-in data types that can be used to create larger and more complex data structures.  We learned about tuples, lists, dictionaries, and how to access and process that data in new ways.\n",
    "\n",
    "**At the begining of the semester, all of the workshop programming exercises will be structured a specific way to make it easier to verify for yourself that you're on the right track as well as easier for me to do a first pass on automated grading.  The structure of each question will require you to write a function using Python code. Don't worry that we haven't talked about functions yet. Just edit the code between** `### BEGIN SOLUTION` and `### END SOLUTION` **as shown in the example below.**\n"
   ]
  },
  {
   "cell_type": "markdown",
   "metadata": {},
   "source": [
    "**WHAT I PROVIDE:**\n",
    "```\n",
    "def some_function(parameter1, parameter2):\n",
    "\n",
    "   ### BEGIN SOLUTION\n",
    "   x = -1\n",
    "   ### END SOLUTION\n",
    "   \n",
    "   return x\n",
    "```\n",
    "\n",
    "**WHAT YOU SHOULD DO:** Just change the parameter names (if you feel you need to) and the calculations between `### BEGIN SOLUTION` and `### END SOLUTION`.  This is just a made up example.\n",
    "```\n",
    "def some_function(a, b):\n",
    "\n",
    "   ### BEGIN SOLUTION\n",
    "   temp = a + b\n",
    "   x = temp / a * b\n",
    "   ### END SOLUTION\n",
    "   \n",
    "   return x\n",
    "```\n"
   ]
  },
  {
   "cell_type": "markdown",
   "metadata": {},
   "source": [
    "---\n",
    "---\n",
    "\n",
    "**Below each programming exercise are some tests (`assertions`) that verify your code is working correctly.  If any assertions fail, you know that something isnt' right with your code, but having all assertions pass doesn't necessarily mean your code is perfect, yet. You should also create your own tests to make sure your code is correct.**\n",
    "\n",
    "**For now, please don't change any function names**"
   ]
  },
  {
   "cell_type": "markdown",
   "metadata": {},
   "source": [
    "### 20.1 Create a sorted list of names\n",
    "\n",
    "Take the list of names below (some are first and last, others are first, middle, and last) and produce a final list of full names separated by commas.\n",
    "\n",
    "```\n",
    "sort_names([\n",
    "['Paul', 'Boal'],\n",
    "['Kermit','the','Frog'],\n",
    "['Donald','Duck']])\n",
    "\n",
    "'Paul Boal, Donald Duck, Kermit the Frog'\n",
    "```"
   ]
  },
  {
   "cell_type": "code",
   "execution_count": 1,
   "metadata": {},
   "outputs": [],
   "source": [
    "names = [['Paul', 'Boal'],['Kermit','the','Frog'],['Donald','Duck']]"
   ]
  },
  {
   "cell_type": "code",
   "execution_count": 2,
   "metadata": {},
   "outputs": [
    {
     "name": "stdout",
     "output_type": "stream",
     "text": [
      "[['Boal, Paul', 'Paul Boal'], ['Duck, Donald', 'Donald Duck'], ['Frog, the Kermit', 'Kermit the Frog']]\n",
      "Paul Boal, Donald Duck, Kermit the Frog\n"
     ]
    }
   ],
   "source": [
    "formatted_names = []\n",
    "\n",
    "for name in names:\n",
    "    if len(name) == 3:\n",
    "        sortable_name = name[2] + ', ' + name[1] + ' ' + name[0]\n",
    "        printable_name = name[0] + ' ' + name[1] + ' ' + name[2]\n",
    "    else:\n",
    "        sortable_name = name[1] + ', ' + name[0]\n",
    "        printable_name = name[0] + ' ' + name[1]\n",
    "    formatted_names.append([sortable_name, printable_name])\n",
    "    \n",
    "formatted_names.sort()\n",
    "print(formatted_names)\n",
    "\n",
    "output = ''\n",
    "for name in formatted_names:\n",
    "    if output == '':\n",
    "        output = name[1]\n",
    "    else:\n",
    "        output += ', ' + name[1]\n",
    "\n",
    "print(output)"
   ]
  },
  {
   "cell_type": "code",
   "execution_count": 3,
   "metadata": {},
   "outputs": [],
   "source": [
    "def sort_names(names):\n",
    "    \n",
    "    sorted_names = \"\"\n",
    "    ### BEGIN SOLUTION\n",
    "    # 1. Restructure list to have LAST FIRST MIDDLE\n",
    "    # 2. I need to keep FIRST MIDDLE LAST along while I'm sorting\n",
    "    #.     ['LAST FIRST MIDDLE', 'FIRST MIDDLE LAST']\n",
    "    \n",
    "    formatted_names = []\n",
    "\n",
    "    for name in names:\n",
    "        if len(name) == 3:\n",
    "            sortable_name = name[2] + ', ' + name[1] + ' ' + name[0]\n",
    "            printable_name = name[0] + ' ' + name[1] + ' ' + name[2]\n",
    "        else:\n",
    "            sortable_name = name[1] + ', ' + name[0]\n",
    "            printable_name = name[0] + ' ' + name[1]\n",
    "        formatted_names.append([sortable_name, printable_name])\n",
    "\n",
    "    formatted_names.sort()\n",
    "\n",
    "    for name in formatted_names:\n",
    "        if sorted_names == '':\n",
    "            sorted_names = name[1]\n",
    "        else:\n",
    "            sorted_names += ', ' + name[1]\n",
    "    ### END SOLUTION\n",
    "    \n",
    "    return sorted_names"
   ]
  },
  {
   "cell_type": "code",
   "execution_count": 4,
   "metadata": {},
   "outputs": [
    {
     "data": {
      "text/plain": [
       "'Paul Boal, Donald Duck, Kermit the Frog'"
      ]
     },
     "execution_count": 4,
     "metadata": {},
     "output_type": "execute_result"
    }
   ],
   "source": [
    "sort_names([['Paul', 'Boal'],['Kermit','the','Frog'],['Donald','Duck']])"
   ]
  },
  {
   "cell_type": "code",
   "execution_count": 5,
   "metadata": {
    "jupyter": {
     "source_hidden": true
    }
   },
   "outputs": [],
   "source": [
    "def sort_names(names):\n",
    "    \n",
    "    sorted_names = \"\"\n",
    "    \n",
    "    # 1. Create a list that I can easily sort\n",
    "    # 2. Sort that list\n",
    "    # 3. Format the sorted names the way I want them\n",
    "    # 4. Combine name into an output string\n",
    "    \n",
    "    return sorted_names"
   ]
  },
  {
   "cell_type": "code",
   "execution_count": 6,
   "metadata": {
    "jupyter": {
     "source_hidden": true
    }
   },
   "outputs": [
    {
     "data": {
      "text/plain": [
       "[('Boal, Paul', 0), ('Duck, Donald', 2), ('Frog, Kermit the', 1)]"
      ]
     },
     "execution_count": 6,
     "metadata": {},
     "output_type": "execute_result"
    }
   ],
   "source": [
    "names = ['Paul', 'Boal'],['Kermit','the','Frog'],['Donald','Duck']\n",
    "\n",
    "# 1. Create a list that I can easily sort\n",
    "#    But keep a key to the original input so I can go back to that later\n",
    "sortable_names = []\n",
    "for key, name in enumerate(names):\n",
    "    if len(name) == 3:\n",
    "        sortable_name = '{}, {} {}'.format(name[2],name[0],name[1])\n",
    "    else:\n",
    "        sortable_name = '{}, {}'.format(name[1],name[0])\n",
    "    sortable_names.append((sortable_name, key))\n",
    "\n",
    "# 2. Sort that list\n",
    "sorted_names = sorted(sortable_names)\n",
    "sorted_names"
   ]
  },
  {
   "cell_type": "code",
   "execution_count": 7,
   "metadata": {
    "jupyter": {
     "source_hidden": true
    }
   },
   "outputs": [
    {
     "data": {
      "text/plain": [
       "['Paul Boal', 'Donald Duck', 'Kermit the Frog']"
      ]
     },
     "execution_count": 7,
     "metadata": {},
     "output_type": "execute_result"
    }
   ],
   "source": [
    "# 3. Format that sorted names the way I want them\n",
    "pretty_names = []\n",
    "for name in sorted_names:\n",
    "    name_key = name[1]\n",
    "    name_parts = names[name_key]\n",
    "    pretty_name = ' '.join(name_parts)\n",
    "    pretty_names.append(pretty_name)\n",
    "\n",
    "pretty_names"
   ]
  },
  {
   "cell_type": "code",
   "execution_count": 8,
   "metadata": {
    "jupyter": {
     "source_hidden": true
    }
   },
   "outputs": [
    {
     "data": {
      "text/plain": [
       "'Paul Boal, Donald Duck, Kermit the Frog'"
      ]
     },
     "execution_count": 8,
     "metadata": {},
     "output_type": "execute_result"
    }
   ],
   "source": [
    "# 4. Combine names into an output string\n",
    "output = ', '.join(pretty_names)\n",
    "output"
   ]
  },
  {
   "cell_type": "markdown",
   "metadata": {},
   "source": [
    "### 20.2 Convert a dictionary to a list\n",
    "\n",
    "In this exercise, we're going to take a dictionary that has families and their names, and convert that into a list of names.  The dictionary is structured such that the key is the family name, and the value for that key is a list of first names.\n",
    "\n",
    "```\n",
    "{\n",
    "  'Boal': ['Paul', 'Anny', 'Jim'],\n",
    "  'Lester-Boal': ['Ellie', 'Ada', 'Teddy'],\n",
    "  'Lester': ['Sarahlynn', 'Jessica', 'Grace', 'Carolynn']\n",
    "}\n",
    "\n",
    "[['Boal', 'Paul'],\n",
    " ['Boal', 'Anny'],\n",
    " ['Boal', 'Jim'],\n",
    " ['Lester-Boal', 'Elliie'],\n",
    " ['Lester-Boal', 'Ada'],\n",
    " ...\n",
    "```"
   ]
  },
  {
   "cell_type": "code",
   "execution_count": 9,
   "metadata": {},
   "outputs": [
    {
     "name": "stdout",
     "output_type": "stream",
     "text": [
      "[['Boal', 'Paul'], ['Boal', 'Anny'], ['Boal', 'Jim'], ['Lester-Boal', 'Ellie'], ['Lester-Boal', 'Ada'], ['Lester-Boal', 'Teddy'], ['Lester', 'Sarahlynn'], ['Lester', 'Jessica'], ['Lester', 'Grace'], ['Lester', 'Carolynn']]\n"
     ]
    }
   ],
   "source": [
    "# Loop through the dictionary key and value\n",
    "# For each item in dict, I know value is going to be a list of first names\n",
    "#For each first name, I need to output [LAST, FIRST]\n",
    "\n",
    "families = {\n",
    "    'Boal': ['Paul', 'Anny', 'Jim'],\n",
    "    'Lester-Boal': ['Ellie', 'Ada', 'Teddy'],\n",
    "    'Lester': ['Sarahlynn', 'Jessica', 'Grace', 'Carolynn']\n",
    "}\n",
    "\n",
    "output = []\n",
    "for last_name, first_names in families.items():\n",
    "    for first in first_names:\n",
    "        output.append([last_name, first])\n",
    "\n",
    "print(output)"
   ]
  },
  {
   "cell_type": "code",
   "execution_count": 10,
   "metadata": {},
   "outputs": [],
   "source": [
    "def dict_to_list(families):\n",
    "    \n",
    "    output = []\n",
    "    for last_name, first_names in families.items():\n",
    "        for first in first_names:\n",
    "            output.append([last_name, first])\n",
    "            \n",
    "    return output"
   ]
  },
  {
   "cell_type": "code",
   "execution_count": 11,
   "metadata": {},
   "outputs": [
    {
     "data": {
      "text/plain": [
       "[['Duck', 'Hewey'],\n",
       " ['Duck', 'Dewey'],\n",
       " ['Duck', 'Louis'],\n",
       " ['Mouse', 'Mickey'],\n",
       " ['Mouse', 'Minney']]"
      ]
     },
     "execution_count": 11,
     "metadata": {},
     "output_type": "execute_result"
    }
   ],
   "source": [
    "dict_to_list({'Duck': ['Hewey', 'Dewey', 'Louis'],\n",
    "             'Mouse': ['Mickey', 'Minney']})"
   ]
  },
  {
   "cell_type": "code",
   "execution_count": 12,
   "metadata": {
    "jupyter": {
     "source_hidden": true
    }
   },
   "outputs": [],
   "source": [
    "def dict_to_list(families):\n",
    "    \n",
    "    output = []\n",
    "    for family, names in families.items():\n",
    "        for name in names:\n",
    "            output.append([family, name])\n",
    "            \n",
    "    return output"
   ]
  },
  {
   "cell_type": "code",
   "execution_count": 13,
   "metadata": {
    "jupyter": {
     "source_hidden": true
    }
   },
   "outputs": [
    {
     "data": {
      "text/plain": [
       "[['Boal', 'Paul'],\n",
       " ['Boal', 'Anny'],\n",
       " ['Boal', 'Jim'],\n",
       " ['Lester-Boal', 'Ellie'],\n",
       " ['Lester-Boal', 'Ada'],\n",
       " ['Lester-Boal', 'Teddy'],\n",
       " ['Lester', 'Sarahlynn'],\n",
       " ['Lester', 'Jessica'],\n",
       " ['Lester', 'Grace'],\n",
       " ['Lester', 'Carolynn']]"
      ]
     },
     "execution_count": 13,
     "metadata": {},
     "output_type": "execute_result"
    }
   ],
   "source": [
    "dict_to_list({\n",
    "  'Boal': ['Paul', 'Anny', 'Jim'],\n",
    "  'Lester-Boal': ['Ellie', 'Ada', 'Teddy'],\n",
    "  'Lester': ['Sarahlynn', 'Jessica', 'Grace', 'Carolynn']\n",
    "})"
   ]
  },
  {
   "cell_type": "markdown",
   "metadata": {
    "nbgrader": {
     "grade": false,
     "grade_id": "average",
     "locked": true,
     "schema_version": 1,
     "solution": false
    }
   },
   "source": [
    "### 20.3 Convert a list to a dictionary\n",
    "\n",
    "Take the list of lists below and convert it into a dictionary where the entries in the dictionary are keyed off of whatever values are in column 0, and the dictionary values are the list of all the values that appear with that key from the input list."
   ]
  },
  {
   "cell_type": "code",
   "execution_count": 19,
   "metadata": {
    "nbgrader": {
     "grade": false,
     "grade_id": "average-answer",
     "locked": false,
     "schema_version": 1,
     "solution": true
    }
   },
   "outputs": [],
   "source": [
    "def list_to_dict():\n",
    "\n",
    "    names = [['Boal', 'Paul'],\n",
    "             ['Duck', 'Donald'],\n",
    "             ['Duck', 'Daisy'],\n",
    "             ['Boal', 'Ada'],\n",
    "             ['Boal', 'Teddy'],\n",
    "             ['Westhus', 'Eric']]\n",
    "\n",
    "    # To help you, I've provided a blank dictionary named `families`.\n",
    "    families = {}\n",
    "    for name in names:\n",
    "        if name[0] in families:\n",
    "            families[name[0]].append(name[1])\n",
    "        else:\n",
    "            families[name[0]] = [name[1]]\n",
    "    # Your code should loop through `names` and do something to build\n",
    "    # up `families` to be the output dictionary shown in the test\n",
    "    # cells below.\n",
    "\n",
    "    ### BEGIN SOLUTION\n",
    "    # Put your solution here\n",
    "    ### END SOLUTION\n",
    "\n",
    "    return families\n"
   ]
  },
  {
   "cell_type": "code",
   "execution_count": 20,
   "metadata": {},
   "outputs": [
    {
     "data": {
      "text/plain": [
       "{'Boal': ['Paul', 'Ada', 'Teddy'],\n",
       " 'Duck': ['Donald', 'Daisy'],\n",
       " 'Westhus': ['Eric']}"
      ]
     },
     "execution_count": 20,
     "metadata": {},
     "output_type": "execute_result"
    }
   ],
   "source": [
    "list_to_dict()"
   ]
  },
  {
   "cell_type": "code",
   "execution_count": 21,
   "metadata": {
    "nbgrader": {
     "grade": true,
     "grade_id": "average-tests",
     "locked": true,
     "points": 5,
     "schema_version": 1,
     "solution": false
    }
   },
   "outputs": [],
   "source": [
    "answer = {\n",
    " 'Boal':    ['Paul', 'Ada', 'Teddy'],\n",
    " 'Duck':    ['Donald', 'Daisy'],\n",
    " 'Westhus': ['Eric']\n",
    "}\n",
    "\n",
    "assert (list_to_dict() == answer)"
   ]
  },
  {
   "cell_type": "markdown",
   "metadata": {},
   "source": [
    "### 20.4 Join using a dictionary\n",
    "\n",
    "We have a list of patients, diagnosis, and length of stay.  We also have a dictionary that contains diagnosis and average length of stay.  Produce an output list that lists the patient and an indicator if the patient's stay was 'too long', 'too short', 'just right'"
   ]
  },
  {
   "cell_type": "code",
   "execution_count": null,
   "metadata": {
    "nbgrader": {
     "grade": false,
     "grade_id": "cell-f3813e33810dc898",
     "locked": false,
     "schema_version": 1,
     "solution": true
    }
   },
   "outputs": [],
   "source": [
    "def patient_los(avg_los, patients):\n",
    "\n",
    "    conclusions = []\n",
    "    for patient in patients:\n",
    "        los = avg_los.get(patient[1])\n",
    "        if patient[2] == los:\n",
    "            conclusions.append([patient[0],'just right'])\n",
    "        elif patient[2] < los:\n",
    "            conclusions.append([patient[0],'too short'])\n",
    "        else:\n",
    "            conclusions.append([patient[0],'too long'])\n",
    "    ### BEGIN SOLUTION\n",
    "    # Put your solution here\n",
    "    ### END SOLUTION\n",
    "    \n",
    "    return conclusions"
   ]
  },
  {
   "cell_type": "code",
   "execution_count": null,
   "metadata": {},
   "outputs": [],
   "source": [
    "avg_los = {\n",
    "    \"Hemolytic jaundice and perinatal jaundice\" : 2,\n",
    "    \"Medical examination/evaluation\" : 3.2,\n",
    "    \"Liveborn\" : 3.2,\n",
    "    \"Trauma to perineum and vulva\" : 2.1,\n",
    "    \"Normal pregnancy and/or delivery\" : 2,\n",
    "    \"Umbilical cord complication\" : 2.1,\n",
    "    \"Forceps delivery\" : 2.2,\n",
    "    \"Administrative/social admission\" : 4.2,\n",
    "    \"Prolonged pregnancy\" : 2.4,\n",
    "    \"Other complications of pregnancy\" : 2.5\n",
    "}\n",
    "\n",
    "patients = [\n",
    "    ['Boal', 'Medical examination/evaluation', 1.1],\n",
    "    ['Boal', 'Other complications of pregnancy', 3.3],\n",
    "    ['Jones', 'Liveborn', 3.2],\n",
    "    ['Ashbury', 'Forceps delivery', 2.0]\n",
    "]\n",
    "\n",
    "patient_los(avg_los, patients)"
   ]
  },
  {
   "cell_type": "code",
   "execution_count": null,
   "metadata": {
    "nbgrader": {
     "grade": true,
     "grade_id": "cell-2af0a520bb56ee21",
     "locked": true,
     "points": 10,
     "schema_version": 1,
     "solution": false
    }
   },
   "outputs": [],
   "source": [
    "conclusions = [['Boal', 'too short'],\n",
    "    ['Boal', 'too long'],\n",
    "    ['Jones', 'just right'],\n",
    "    ['Ashbury', 'too short']]\n",
    "\n",
    "assert(patient_los(avg_los, patients) == conclusions)"
   ]
  },
  {
   "cell_type": "code",
   "execution_count": null,
   "metadata": {},
   "outputs": [],
   "source": []
  },
  {
   "cell_type": "markdown",
   "metadata": {},
   "source": [
    "---\n",
    "\n",
    "## Submitting Your Work\n",
    "\n",
    "In order to submit your work, you'll need to use the `git` command line program to **add** your homework file (this file) to your local repository, **commit** your changes to your local repository, and then **push** those changes up to github.com.  From there, I'll be able to **pull** the changes down and do my grading.  I'll provide some feedback, **commit** and **push** my comments back to you.  Next week, I'll show you how to **pull** down my comments.\n",
    "\n",
    "To run through everything one last time and submit your work:\n",
    "1. Use the `Kernel` -> `Restart Kernel and Run All Cells` menu option to run everything from top to bottom and stop here.\n",
    "2. Save this note with Ctrl-S (or Cmd-S)\n",
    "2. Skip down to the last command cell (the one starting with `%%bash`) and run that cell.\n",
    "\n",
    "If anything fails along the way with this submission part of the process, let me know.  I'll help you troubleshoort."
   ]
  },
  {
   "cell_type": "code",
   "execution_count": null,
   "metadata": {},
   "outputs": [],
   "source": [
    "assert False, \"DO NOT REMOVE THIS LINE\""
   ]
  },
  {
   "cell_type": "markdown",
   "metadata": {},
   "source": [
    "---"
   ]
  },
  {
   "cell_type": "code",
   "execution_count": null,
   "metadata": {},
   "outputs": [],
   "source": [
    "%%bash\n",
    "git pull\n",
    "git add week04_assignment_2.ipynb\n",
    "git commit -a -m \"Submitting the week 4 programming assignment\"\n",
    "git push"
   ]
  },
  {
   "cell_type": "markdown",
   "metadata": {},
   "source": [
    "\n",
    "---\n",
    "\n",
    "If the message above says something like _Submitting the week 4 programming assignment_ or _Everything is up to date_, then your work was submitted correctly."
   ]
  }
 ],
 "metadata": {
  "celltoolbar": "Create Assignment",
  "kernelspec": {
   "display_name": "Python 3",
   "language": "python",
   "name": "python3"
  },
  "language_info": {
   "codemirror_mode": {
    "name": "ipython",
    "version": 3
   },
   "file_extension": ".py",
   "mimetype": "text/x-python",
   "name": "python",
   "nbconvert_exporter": "python",
   "pygments_lexer": "ipython3",
   "version": "3.6.7"
  }
 },
 "nbformat": 4,
 "nbformat_minor": 2
}
